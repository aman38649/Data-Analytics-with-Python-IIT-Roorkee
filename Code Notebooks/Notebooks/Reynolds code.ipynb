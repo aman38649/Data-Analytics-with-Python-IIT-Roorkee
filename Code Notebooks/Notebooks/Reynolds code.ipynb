{
 "cells": [
  {
   "cell_type": "code",
   "execution_count": 1,
   "metadata": {},
   "outputs": [],
   "source": [
    "import pandas as pd\n",
    "import numpy as np\n",
    "import matplotlib.pyplot as plt\n",
    "import statsmodels.api as sm"
   ]
  },
  {
   "cell_type": "code",
   "execution_count": 9,
   "metadata": {},
   "outputs": [
    {
     "data": {
      "text/html": [
       "<div>\n",
       "<style scoped>\n",
       "    .dataframe tbody tr th:only-of-type {\n",
       "        vertical-align: middle;\n",
       "    }\n",
       "\n",
       "    .dataframe tbody tr th {\n",
       "        vertical-align: top;\n",
       "    }\n",
       "\n",
       "    .dataframe thead th {\n",
       "        text-align: right;\n",
       "    }\n",
       "</style>\n",
       "<table border=\"1\" class=\"dataframe\">\n",
       "  <thead>\n",
       "    <tr style=\"text-align: right;\">\n",
       "      <th></th>\n",
       "      <th>ScalesSold</th>\n",
       "      <th>MonthsEmployed</th>\n",
       "    </tr>\n",
       "  </thead>\n",
       "  <tbody>\n",
       "    <tr>\n",
       "      <th>0</th>\n",
       "      <td>275</td>\n",
       "      <td>41</td>\n",
       "    </tr>\n",
       "    <tr>\n",
       "      <th>1</th>\n",
       "      <td>296</td>\n",
       "      <td>106</td>\n",
       "    </tr>\n",
       "    <tr>\n",
       "      <th>2</th>\n",
       "      <td>317</td>\n",
       "      <td>76</td>\n",
       "    </tr>\n",
       "    <tr>\n",
       "      <th>3</th>\n",
       "      <td>376</td>\n",
       "      <td>104</td>\n",
       "    </tr>\n",
       "    <tr>\n",
       "      <th>4</th>\n",
       "      <td>162</td>\n",
       "      <td>22</td>\n",
       "    </tr>\n",
       "    <tr>\n",
       "      <th>5</th>\n",
       "      <td>150</td>\n",
       "      <td>12</td>\n",
       "    </tr>\n",
       "    <tr>\n",
       "      <th>6</th>\n",
       "      <td>367</td>\n",
       "      <td>85</td>\n",
       "    </tr>\n",
       "    <tr>\n",
       "      <th>7</th>\n",
       "      <td>308</td>\n",
       "      <td>111</td>\n",
       "    </tr>\n",
       "    <tr>\n",
       "      <th>8</th>\n",
       "      <td>189</td>\n",
       "      <td>40</td>\n",
       "    </tr>\n",
       "    <tr>\n",
       "      <th>9</th>\n",
       "      <td>235</td>\n",
       "      <td>51</td>\n",
       "    </tr>\n",
       "    <tr>\n",
       "      <th>10</th>\n",
       "      <td>83</td>\n",
       "      <td>9</td>\n",
       "    </tr>\n",
       "    <tr>\n",
       "      <th>11</th>\n",
       "      <td>112</td>\n",
       "      <td>12</td>\n",
       "    </tr>\n",
       "    <tr>\n",
       "      <th>12</th>\n",
       "      <td>67</td>\n",
       "      <td>6</td>\n",
       "    </tr>\n",
       "    <tr>\n",
       "      <th>13</th>\n",
       "      <td>325</td>\n",
       "      <td>56</td>\n",
       "    </tr>\n",
       "    <tr>\n",
       "      <th>14</th>\n",
       "      <td>189</td>\n",
       "      <td>19</td>\n",
       "    </tr>\n",
       "  </tbody>\n",
       "</table>\n",
       "</div>"
      ],
      "text/plain": [
       "    ScalesSold  MonthsEmployed\n",
       "0          275              41\n",
       "1          296             106\n",
       "2          317              76\n",
       "3          376             104\n",
       "4          162              22\n",
       "5          150              12\n",
       "6          367              85\n",
       "7          308             111\n",
       "8          189              40\n",
       "9          235              51\n",
       "10          83               9\n",
       "11         112              12\n",
       "12          67               6\n",
       "13         325              56\n",
       "14         189              19"
      ]
     },
     "execution_count": 9,
     "metadata": {},
     "output_type": "execute_result"
    }
   ],
   "source": [
    "tbl1 = pd.read_excel('Reynolds.xlsx')\n",
    "tbl1"
   ]
  },
  {
   "cell_type": "code",
   "execution_count": 13,
   "metadata": {},
   "outputs": [
    {
     "data": {
      "text/plain": [
       "Text(0.5,0,'MonthsEmployed')"
      ]
     },
     "execution_count": 13,
     "metadata": {},
     "output_type": "execute_result"
    },
    {
     "data": {
      "image/png": "[encoded data removed]",
      "text/plain": [
       "<Figure size 432x288 with 1 Axes>"
      ]
     },
     "metadata": {},
     "output_type": "display_data"
    }
   ],
   "source": [
    "plt.scatter(tbl1['MonthsEmployed'],tbl1['ScalesSold'])\n",
    "plt.ylabel('scales sold')\n",
    "plt.xlabel('MonthsEmployed')"
   ]
  },
  {
   "cell_type": "code",
   "execution_count": 14,
   "metadata": {},
   "outputs": [
    {
     "name": "stderr",
     "output_type": "stream",
     "text": [
      "C:\\Users\\Somi\\Anaconda3\\lib\\site-packages\\scipy\\stats\\stats.py:1394: UserWarning: kurtosistest only valid for n>=20 ... continuing anyway, n=15\n",
      "  \"anyway, n=%i\" % int(n))\n"
     ]
    },
    {
     "name": "stdout",
     "output_type": "stream",
     "text": [
      "                            OLS Regression Results                            \n",
      "==============================================================================\n",
      "Dep. Variable:             ScalesSold   R-squared:                       0.781\n",
      "Model:                            OLS   Adj. R-squared:                  0.764\n",
      "Method:                 Least Squares   F-statistic:                     46.41\n",
      "Date:                Thu, 12 Sep 2019   Prob (F-statistic):           1.24e-05\n",
      "Time:                        12:15:26   Log-Likelihood:                -78.745\n",
      "No. Observations:                  15   AIC:                             161.5\n",
      "Df Residuals:                      13   BIC:                             162.9\n",
      "Df Model:                           1                                         \n",
      "Covariance Type:            nonrobust                                         \n",
      "==================================================================================\n",
      "                     coef    std err          t      P>|t|      [0.025      0.975]\n",
      "----------------------------------------------------------------------------------\n",
      "const            111.2279     21.628      5.143      0.000      64.503     157.952\n",
      "MonthsEmployed     2.3768      0.349      6.812      0.000       1.623       3.131\n",
      "==============================================================================\n",
      "Omnibus:                        1.043   Durbin-Watson:                   2.261\n",
      "Prob(Omnibus):                  0.594   Jarque-Bera (JB):                0.723\n",
      "Skew:                           0.052   Prob(JB):                        0.697\n",
      "Kurtosis:                       1.930   Cond. No.                         105.\n",
      "==============================================================================\n",
      "\n",
      "Warnings:\n",
      "[1] Standard Errors assume that the covariance matrix of the errors is correctly specified.\n"
     ]
    }
   ],
   "source": [
    "x =tbl1['MonthsEmployed']\n",
    "y = tbl1['ScalesSold']\n",
    "x2 = sm.add_constant(x)\n",
    "model = sm.OLS(y,x2)\n",
    "Model = model.fit()\n",
    "print(Model.summary())"
   ]
  },
  {
   "cell_type": "code",
   "execution_count": 18,
   "metadata": {},
   "outputs": [],
   "source": [
    "E=Model.resid_pearson"
   ]
  },
  {
   "cell_type": "code",
   "execution_count": 19,
   "metadata": {},
   "outputs": [
    {
     "data": {
      "text/plain": [
       "array([ 1.33945744, -1.35645713,  0.50765989,  0.35518943, -0.03063607,\n",
       "        0.20702037,  1.08543558, -1.35411191, -0.34936157,  0.05163116,\n",
       "       -1.00208207, -0.56041143, -1.18121025,  1.62923113,  0.65864542])"
      ]
     },
     "execution_count": 19,
     "metadata": {},
     "output_type": "execute_result"
    }
   ],
   "source": [
    "E"
   ]
  },
  {
   "cell_type": "code",
   "execution_count": 42,
   "metadata": {},
   "outputs": [
    {
     "data": {
      "text/plain": [
       "0     208.675693\n",
       "1     363.166061\n",
       "2     291.862814\n",
       "3     358.412511\n",
       "4     163.516970\n",
       "5     139.749221\n",
       "6     313.253788\n",
       "7     375.049935\n",
       "8     206.298918\n",
       "9     232.443442\n",
       "10    132.618896\n",
       "11    139.749221\n",
       "12    125.488571\n",
       "13    244.327316\n",
       "14    156.386645\n",
       "dtype: float64"
      ]
     },
     "execution_count": 42,
     "metadata": {},
     "output_type": "execute_result"
    }
   ],
   "source": [
    "yhat = Model.predict(x2)\n",
    "yhat"
   ]
  },
  {
   "cell_type": "code",
   "execution_count": 41,
   "metadata": {},
   "outputs": [
    {
     "data": {
      "text/plain": [
       "<matplotlib.collections.PathCollection at 0x16096361438>"
      ]
     },
     "execution_count": 41,
     "metadata": {},
     "output_type": "execute_result"
    },
    {
     "data": {
      "image/png": "[encoded data removed]",
      "text/plain": [
       "<Figure size 432x288 with 1 Axes>"
      ]
     },
     "metadata": {},
     "output_type": "display_data"
    }
   ],
   "source": [
    "plt.scatter(yhat,E)"
   ]
  },
  {
   "cell_type": "code",
   "execution_count": 29,
   "metadata": {},
   "outputs": [
    {
     "data": {
      "text/plain": [
       "0      1681\n",
       "1     11236\n",
       "2      5776\n",
       "3     10816\n",
       "4       484\n",
       "5       144\n",
       "6      7225\n",
       "7     12321\n",
       "8      1600\n",
       "9      2601\n",
       "10       81\n",
       "11      144\n",
       "12       36\n",
       "13     3136\n",
       "14      361\n",
       "Name: MonthsEmployed, dtype: int64"
      ]
     },
     "execution_count": 29,
     "metadata": {},
     "output_type": "execute_result"
    }
   ],
   "source": [
    "X_sq = (x**2)\n",
    "X_sq"
   ]
  },
  {
   "cell_type": "code",
   "execution_count": 31,
   "metadata": {},
   "outputs": [
    {
     "name": "stdout",
     "output_type": "stream",
     "text": [
      "                            OLS Regression Results                            \n",
      "==============================================================================\n",
      "Dep. Variable:             ScalesSold   R-squared:                       0.902\n",
      "Model:                            OLS   Adj. R-squared:                  0.886\n",
      "Method:                 Least Squares   F-statistic:                     55.36\n",
      "Date:                Thu, 12 Sep 2019   Prob (F-statistic):           8.75e-07\n",
      "Time:                        12:38:01   Log-Likelihood:                -72.704\n",
      "No. Observations:                  15   AIC:                             151.4\n",
      "Df Residuals:                      12   BIC:                             153.5\n",
      "Df Model:                           2                                         \n",
      "Covariance Type:            nonrobust                                         \n",
      "==============================================================================\n",
      "                 coef    std err          t      P>|t|      [0.025      0.975]\n",
      "------------------------------------------------------------------------------\n",
      "const         45.3476     22.775      1.991      0.070      -4.274      94.969\n",
      "x1             6.3448      1.058      5.998      0.000       4.040       8.650\n",
      "x2            -0.0345      0.009     -3.854      0.002      -0.054      -0.015\n",
      "==============================================================================\n",
      "Omnibus:                        2.162   Durbin-Watson:                   1.313\n",
      "Prob(Omnibus):                  0.339   Jarque-Bera (JB):                1.003\n",
      "Skew:                          -0.126   Prob(JB):                        0.606\n",
      "Kurtosis:                       1.758   Cond. No.                     1.48e+04\n",
      "==============================================================================\n",
      "\n",
      "Warnings:\n",
      "[1] Standard Errors assume that the covariance matrix of the errors is correctly specified.\n",
      "[2] The condition number is large, 1.48e+04. This might indicate that there are\n",
      "strong multicollinearity or other numerical problems.\n"
     ]
    },
    {
     "name": "stderr",
     "output_type": "stream",
     "text": [
      "C:\\Users\\Somi\\Anaconda3\\lib\\site-packages\\scipy\\stats\\stats.py:1394: UserWarning: kurtosistest only valid for n>=20 ... continuing anyway, n=15\n",
      "  \"anyway, n=%i\" % int(n))\n"
     ]
    }
   ],
   "source": [
    "x_new =np.column_stack((x,X_sq))\n",
    "x_new2 = sm.add_constant(x_new)\n",
    "model2 = sm.OLS(y,x_new2)\n",
    "Model2 = model2.fit()\n",
    "print(Model2.summary())"
   ]
  },
  {
   "cell_type": "code",
   "execution_count": 35,
   "metadata": {},
   "outputs": [
    {
     "data": {
      "text/plain": [
       "array([ 0.797777  , -0.99895952, -0.32984543,  1.27097898, -0.18118441,\n",
       "        0.97178443,  0.91436152, -0.48542046, -1.59531168, -1.28395183,\n",
       "       -0.48348828, -0.13117488, -0.44045635,  0.94303218,  1.03185873])"
      ]
     },
     "execution_count": 35,
     "metadata": {},
     "output_type": "execute_result"
    }
   ],
   "source": [
    "E2=Model2.resid_pearson\n",
    "E2"
   ]
  },
  {
   "cell_type": "code",
   "execution_count": 38,
   "metadata": {},
   "outputs": [],
   "source": [
    "yhat2= Model2.predict(x_new2)"
   ]
  },
  {
   "cell_type": "code",
   "execution_count": 39,
   "metadata": {},
   "outputs": [
    {
     "data": {
      "text/plain": [
       "<matplotlib.collections.PathCollection at 0x1609630dcc0>"
      ]
     },
     "execution_count": 39,
     "metadata": {},
     "output_type": "execute_result"
    },
    {
     "data": {
      "image/png": "[encoded data removed]",
      "text/plain": [
       "<Figure size 432x288 with 1 Axes>"
      ]
     },
     "metadata": {},
     "output_type": "display_data"
    }
   ],
   "source": [
    "plt.scatter(yhat2,E2)"
   ]
  },
  {
   "cell_type": "code",
   "execution_count": 2,
   "metadata": {},
   "outputs": [],
   "source": [
    "X = [41, 106, 76, 104, 22, 12, 85, 111, 40, 51]\n",
    "Y = [275, 296 , 317, 376, 162, 150, 367, 308, 189, 235]"
   ]
  },
  {
   "cell_type": "code",
   "execution_count": 3,
   "metadata": {},
   "outputs": [
    {
     "name": "stderr",
     "output_type": "stream",
     "text": [
      "C:\\Users\\Somi\\Anaconda3\\lib\\site-packages\\scipy\\stats\\stats.py:1394: UserWarning: kurtosistest only valid for n>=20 ... continuing anyway, n=10\n",
      "  \"anyway, n=%i\" % int(n))\n"
     ]
    },
    {
     "name": "stdout",
     "output_type": "stream",
     "text": [
      "                            OLS Regression Results                            \n",
      "==============================================================================\n",
      "Dep. Variable:                      y   R-squared:                       1.000\n",
      "Model:                            OLS   Adj. R-squared:                  1.000\n",
      "Method:                 Least Squares   F-statistic:                 2.110e+31\n",
      "Date:                Tue, 14 Jan 2020   Prob (F-statistic):          5.65e-123\n",
      "Time:                        22:51:03   Log-Likelihood:                 300.64\n",
      "No. Observations:                  10   AIC:                            -597.3\n",
      "Df Residuals:                       8   BIC:                            -596.7\n",
      "Df Model:                           1                                         \n",
      "Covariance Type:            nonrobust                                         \n",
      "==============================================================================\n",
      "                 coef    std err          t      P>|t|      [0.025      0.975]\n",
      "------------------------------------------------------------------------------\n",
      "const      -7.105e-15    1.6e-14     -0.445      0.668    -4.4e-14    2.97e-14\n",
      "x1             1.0000   2.18e-16   4.59e+15      0.000       1.000       1.000\n",
      "==============================================================================\n",
      "Omnibus:                        2.457   Durbin-Watson:                   0.502\n",
      "Prob(Omnibus):                  0.293   Jarque-Bera (JB):                1.106\n",
      "Skew:                           0.427   Prob(JB):                        0.575\n",
      "Kurtosis:                       1.613   Cond. No.                         156.\n",
      "==============================================================================\n",
      "\n",
      "Warnings:\n",
      "[1] Standard Errors assume that the covariance matrix of the errors is correctly specified.\n"
     ]
    }
   ],
   "source": [
    "x2 = sm.add_constant(X)\n",
    "model = sm.OLS(X,x2)\n",
    "Model = model.fit()\n",
    "print(Model.summary())"
   ]
  },
  {
   "cell_type": "code",
   "execution_count": 5,
   "metadata": {},
   "outputs": [
    {
     "data": {
      "text/plain": [
       "[1681, 11236, 5776, 10816, 484, 144, 7225, 12321, 1600, 2601]"
      ]
     },
     "execution_count": 5,
     "metadata": {},
     "output_type": "execute_result"
    }
   ],
   "source": [
    "X_sq =  [1681, 11236, 5776, 10816, 484,    144,  7225, 12321, 1600, 2601]\n",
    "X_sq"
   ]
  },
  {
   "cell_type": "code",
   "execution_count": 8,
   "metadata": {},
   "outputs": [
    {
     "name": "stdout",
     "output_type": "stream",
     "text": [
      "                            OLS Regression Results                            \n",
      "==============================================================================\n",
      "Dep. Variable:                      y   R-squared:                       0.821\n",
      "Model:                            OLS   Adj. R-squared:                  0.770\n",
      "Method:                 Least Squares   F-statistic:                     16.07\n",
      "Date:                Tue, 14 Jan 2020   Prob (F-statistic):            0.00242\n",
      "Time:                        22:57:55   Log-Likelihood:                -48.979\n",
      "No. Observations:                  10   AIC:                             104.0\n",
      "Df Residuals:                       7   BIC:                             104.9\n",
      "Df Model:                           2                                         \n",
      "Covariance Type:            nonrobust                                         \n",
      "==============================================================================\n",
      "                 coef    std err          t      P>|t|      [0.025      0.975]\n",
      "------------------------------------------------------------------------------\n",
      "const         72.2955     48.350      1.495      0.178     -42.033     186.624\n",
      "x1             5.0418      1.827      2.760      0.028       0.722       9.362\n",
      "x2            -0.0244      0.014     -1.744      0.125      -0.057       0.009\n",
      "==============================================================================\n",
      "Omnibus:                        3.070   Durbin-Watson:                   1.694\n",
      "Prob(Omnibus):                  0.215   Jarque-Bera (JB):                0.984\n",
      "Skew:                           0.085   Prob(JB):                        0.611\n",
      "Kurtosis:                       1.473   Cond. No.                     2.77e+04\n",
      "==============================================================================\n",
      "\n",
      "Warnings:\n",
      "[1] Standard Errors assume that the covariance matrix of the errors is correctly specified.\n",
      "[2] The condition number is large, 2.77e+04. This might indicate that there are\n",
      "strong multicollinearity or other numerical problems.\n"
     ]
    },
    {
     "name": "stderr",
     "output_type": "stream",
     "text": [
      "C:\\Users\\Somi\\Anaconda3\\lib\\site-packages\\scipy\\stats\\stats.py:1394: UserWarning: kurtosistest only valid for n>=20 ... continuing anyway, n=10\n",
      "  \"anyway, n=%i\" % int(n))\n"
     ]
    }
   ],
   "source": [
    "x_new =np.column_stack((X,X_sq))\n",
    "x_new2 = sm.add_constant(x_new)\n",
    "model2 = sm.OLS(Y,x_new2)\n",
    "Model2 = model2.fit()\n",
    "print(Model2.summary())"
   ]
  },
  {
   "cell_type": "code",
   "execution_count": 9,
   "metadata": {},
   "outputs": [
    {
     "data": {
      "text/plain": [
       "array([[   41,  1681],\n",
       "       [  106, 11236],\n",
       "       [   76,  5776],\n",
       "       [  104, 10816],\n",
       "       [   22,   484],\n",
       "       [   12,   144],\n",
       "       [   85,  7225],\n",
       "       [  111, 12321],\n",
       "       [   40,  1600],\n",
       "       [   51,  2601]])"
      ]
     },
     "execution_count": 9,
     "metadata": {},
     "output_type": "execute_result"
    }
   ],
   "source": [
    "x_new"
   ]
  },
  {
   "cell_type": "code",
   "execution_count": null,
   "metadata": {},
   "outputs": [],
   "source": []
  }
 ],
 "metadata": {
  "kernelspec": {
   "display_name": "Python 3",
   "language": "python",
   "name": "python3"
  },
  "language_info": {
   "codemirror_mode": {
    "name": "ipython",
    "version": 3
   },
   "file_extension": ".py",
   "mimetype": "text/x-python",
   "name": "python",
   "nbconvert_exporter": "python",
   "pygments_lexer": "ipython3",
   "version": "3.6.5"
  }
 },
 "nbformat": 4,
 "nbformat_minor": 2
}
