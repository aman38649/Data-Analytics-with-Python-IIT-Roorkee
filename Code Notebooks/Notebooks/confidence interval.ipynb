{
 "cells": [
  {
   "cell_type": "code",
   "execution_count": 1,
   "metadata": {},
   "outputs": [],
   "source": [
    "import pandas as pd\n",
    "from scipy import stats\n",
    "import numpy as np"
   ]
  },
  {
   "cell_type": "markdown",
   "metadata": {},
   "source": [
    "Calculating a confidence interval for a mean point estimate"
   ]
  },
  {
   "cell_type": "code",
   "execution_count": 2,
   "metadata": {},
   "outputs": [
    {
     "data": {
      "text/plain": [
       "(28.552710068603858, 57.44728993139614)"
      ]
     },
     "execution_count": 2,
     "metadata": {},
     "output_type": "execute_result"
    }
   ],
   "source": [
    "stats.t.interval(alpha = 0.95,              # Confidence level\n",
    "                 df= 24,                    # Degrees of freedom\n",
    "                 loc = 43,                 # Sample mean\n",
    "                 scale = 7)                 # Standard deviation estimate"
   ]
  },
  {
   "cell_type": "markdown",
   "metadata": {},
   "source": [
    "confidence interval for a point estimate of a population proportion"
   ]
  },
  {
   "cell_type": "code",
   "execution_count": 5,
   "metadata": {},
   "outputs": [
    {
     "data": {
      "text/plain": [
       "(0.16758794241348748, 0.21641205758651252)"
      ]
     },
     "execution_count": 5,
     "metadata": {},
     "output_type": "execute_result"
    }
   ],
   "source": [
    "import math\n",
    "p= 0.192\n",
    "n= 1000\n",
    "sigma = math.sqrt((p*(1-p))/n)\n",
    "stats.norm.interval(alpha = 0.95,    # Confidence level             \n",
    "                   loc =  0.192,     # Point estimate of proportion\n",
    "                   scale = sigma)  # Scaling factor"
   ]
  },
  {
   "cell_type": "markdown",
   "metadata": {},
   "source": [
    "confidence interval for population mean point estimate"
   ]
  },
  {
   "cell_type": "code",
   "execution_count": 7,
   "metadata": {},
   "outputs": [
    {
     "name": "stdout",
     "output_type": "stream",
     "text": [
      "z-critical value:\n",
      "1.959963984540054\n",
      "Confidence interval:\n",
      "(147.76873788370358, 152.23126211629642)\n"
     ]
    }
   ],
   "source": [
    "z_critical = stats.norm.ppf(0.975)  # Get the z-critical value*\n",
    "\n",
    "print(\"z-critical value:\")              # Check the z-critical value\n",
    "print(z_critical)                        \n",
    "\n",
    "pop_stdev = 36  # Get the population standard deviation\n",
    "sample_mean = 150\n",
    "sample_size = 1000\n",
    "margin_of_error = z_critical * (pop_stdev/math.sqrt(sample_size))\n",
    "\n",
    "confidence_interval = (sample_mean - margin_of_error,\n",
    "                       sample_mean + margin_of_error)  \n",
    "\n",
    "print(\"Confidence interval:\")\n",
    "print(confidence_interval)"
   ]
  },
  {
   "cell_type": "markdown",
   "metadata": {},
   "source": [
    "confidence interval for a point estimate of a population proportion Where z is the z-critical value for our confidence leve"
   ]
  },
  {
   "cell_type": "code",
   "execution_count": 11,
   "metadata": {},
   "outputs": [
    {
     "data": {
      "text/plain": [
       "(0.16758794241348748, 0.21641205758651252)"
      ]
     },
     "execution_count": 11,
     "metadata": {},
     "output_type": "execute_result"
    }
   ],
   "source": [
    "z_critical = stats.norm.ppf(0.975)      # Record z-critical value\n",
    "\n",
    "p = 0.192                               # Point estimate of proportion\n",
    "\n",
    "n = 1000                                # Sample size\n",
    "\n",
    "margin_of_error = z_critical * math.sqrt((p*(1-p))/n)\n",
    "\n",
    "confidence_interval = (p - margin_of_error,  # Calculate the the interval\n",
    "                       p + margin_of_error) \n",
    "\n",
    "confidence_interval # gives the same results as given by stats.norm.interval()"
   ]
  },
  {
   "cell_type": "markdown",
   "metadata": {},
   "source": [
    "The t-critical value will approach the z-critical value so there is little difference between using the normal distribution vs. the t-distribution"
   ]
  },
  {
   "cell_type": "code",
   "execution_count": 9,
   "metadata": {},
   "outputs": [
    {
     "data": {
      "text/plain": [
       "0.024252966968628664"
      ]
     },
     "execution_count": 9,
     "metadata": {},
     "output_type": "execute_result"
    }
   ],
   "source": [
    "stats.t.ppf(q=0.975, df= 99) - stats.norm.ppf(0.975)  #for sample size 100"
   ]
  },
  {
   "cell_type": "code",
   "execution_count": 10,
   "metadata": {},
   "outputs": [
    {
     "data": {
      "text/plain": [
       "0.0023774765933946007"
      ]
     },
     "execution_count": 10,
     "metadata": {},
     "output_type": "execute_result"
    }
   ],
   "source": [
    "stats.t.ppf(q=0.975, df= 999) - stats.norm.ppf(0.975)  #for sample size 1000"
   ]
  },
  {
   "cell_type": "code",
   "execution_count": null,
   "metadata": {},
   "outputs": [],
   "source": []
  }
 ],
 "metadata": {
  "kernelspec": {
   "display_name": "Python 3",
   "language": "python",
   "name": "python3"
  },
  "language_info": {
   "codemirror_mode": {
    "name": "ipython",
    "version": 3
   },
   "file_extension": ".py",
   "mimetype": "text/x-python",
   "name": "python",
   "nbconvert_exporter": "python",
   "pygments_lexer": "ipython3",
   "version": "3.6.5"
  }
 },
 "nbformat": 4,
 "nbformat_minor": 2
}
