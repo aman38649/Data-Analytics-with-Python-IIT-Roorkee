{
 "cells": [
  {
   "cell_type": "code",
   "execution_count": 1,
   "metadata": {},
   "outputs": [],
   "source": [
    "import pandas as pd\n",
    "import numpy as np\n",
    "import matplotlib.pyplot as plt\n",
    "import statsmodels.api as sm"
   ]
  },
  {
   "cell_type": "code",
   "execution_count": 8,
   "metadata": {},
   "outputs": [
    {
     "data": {
      "text/html": [
       "<div>\n",
       "<style scoped>\n",
       "    .dataframe tbody tr th:only-of-type {\n",
       "        vertical-align: middle;\n",
       "    }\n",
       "\n",
       "    .dataframe tbody tr th {\n",
       "        vertical-align: top;\n",
       "    }\n",
       "\n",
       "    .dataframe thead th {\n",
       "        text-align: right;\n",
       "    }\n",
       "</style>\n",
       "<table border=\"1\" class=\"dataframe\">\n",
       "  <thead>\n",
       "    <tr style=\"text-align: right;\">\n",
       "      <th></th>\n",
       "      <th>Price</th>\n",
       "      <th>AdvertisingExpenditure($1000s)</th>\n",
       "      <th>Sales(1000s)</th>\n",
       "    </tr>\n",
       "  </thead>\n",
       "  <tbody>\n",
       "    <tr>\n",
       "      <th>0</th>\n",
       "      <td>2.0</td>\n",
       "      <td>50</td>\n",
       "      <td>478</td>\n",
       "    </tr>\n",
       "    <tr>\n",
       "      <th>1</th>\n",
       "      <td>2.5</td>\n",
       "      <td>50</td>\n",
       "      <td>373</td>\n",
       "    </tr>\n",
       "    <tr>\n",
       "      <th>2</th>\n",
       "      <td>3.0</td>\n",
       "      <td>50</td>\n",
       "      <td>335</td>\n",
       "    </tr>\n",
       "    <tr>\n",
       "      <th>3</th>\n",
       "      <td>2.0</td>\n",
       "      <td>50</td>\n",
       "      <td>473</td>\n",
       "    </tr>\n",
       "    <tr>\n",
       "      <th>4</th>\n",
       "      <td>2.5</td>\n",
       "      <td>50</td>\n",
       "      <td>358</td>\n",
       "    </tr>\n",
       "  </tbody>\n",
       "</table>\n",
       "</div>"
      ],
      "text/plain": [
       "   Price  AdvertisingExpenditure($1000s)  Sales(1000s)\n",
       "0    2.0                              50           478\n",
       "1    2.5                              50           373\n",
       "2    3.0                              50           335\n",
       "3    2.0                              50           473\n",
       "4    2.5                              50           358"
      ]
     },
     "execution_count": 8,
     "metadata": {},
     "output_type": "execute_result"
    }
   ],
   "source": [
    "tbl1 = pd.read_excel('Tyler.xlsx')\n",
    "tbl1.head()"
   ]
  },
  {
   "cell_type": "code",
   "execution_count": 7,
   "metadata": {},
   "outputs": [
    {
     "data": {
      "text/plain": [
       "Text(0.5,0,'x1')"
      ]
     },
     "execution_count": 7,
     "metadata": {},
     "output_type": "execute_result"
    },
    {
     "data": {
      "image/png": "[encoded data removed]",
      "text/plain": [
       "<Figure size 432x288 with 1 Axes>"
      ]
     },
     "metadata": {},
     "output_type": "display_data"
    }
   ],
   "source": [
    "plt.scatter(tbl1['Price'],tbl1['Sales(1000s)'], color='green')\n",
    "plt.ylabel('scales sold')\n",
    "plt.xlabel('x1')"
   ]
  },
  {
   "cell_type": "code",
   "execution_count": 6,
   "metadata": {},
   "outputs": [
    {
     "data": {
      "text/plain": [
       "Text(0.5,0,'x2')"
      ]
     },
     "execution_count": 6,
     "metadata": {},
     "output_type": "execute_result"
    },
    {
     "data": {
      "image/png": "[encoded data removed]",
      "text/plain": [
       "<Figure size 432x288 with 1 Axes>"
      ]
     },
     "metadata": {},
     "output_type": "display_data"
    }
   ],
   "source": [
    "plt.scatter(tbl1['AdvertisingExpenditure($1000s)'],tbl1['Sales(1000s)'], color='red')\n",
    "plt.ylabel('scales sold')\n",
    "plt.xlabel('x2')"
   ]
  },
  {
   "cell_type": "code",
   "execution_count": 10,
   "metadata": {},
   "outputs": [
    {
     "name": "stdout",
     "output_type": "stream",
     "text": [
      "                            OLS Regression Results                            \n",
      "==============================================================================\n",
      "Dep. Variable:           Sales(1000s)   R-squared:                       0.851\n",
      "Model:                            OLS   Adj. R-squared:                  0.836\n",
      "Method:                 Least Squares   F-statistic:                     59.82\n",
      "Date:                Thu, 12 Sep 2019   Prob (F-statistic):           2.13e-09\n",
      "Time:                        13:07:40   Log-Likelihood:                -135.03\n",
      "No. Observations:                  24   AIC:                             276.1\n",
      "Df Residuals:                      21   BIC:                             279.6\n",
      "Df Model:                           2                                         \n",
      "Covariance Type:            nonrobust                                         \n",
      "==============================================================================\n",
      "                 coef    std err          t      P>|t|      [0.025      0.975]\n",
      "------------------------------------------------------------------------------\n",
      "const        864.1667    101.025      8.554      0.000     654.074    1074.259\n",
      "x1             4.4800      0.586      7.641      0.000       3.261       5.699\n",
      "x2          -281.0000     35.905     -7.826      0.000    -355.669    -206.331\n",
      "==============================================================================\n",
      "Omnibus:                        5.905   Durbin-Watson:                   2.615\n",
      "Prob(Omnibus):                  0.052   Jarque-Bera (JB):                1.835\n",
      "Skew:                          -0.162   Prob(JB):                        0.400\n",
      "Kurtosis:                       1.685   Cond. No.                         572.\n",
      "==============================================================================\n",
      "\n",
      "Warnings:\n",
      "[1] Standard Errors assume that the covariance matrix of the errors is correctly specified.\n"
     ]
    }
   ],
   "source": [
    "x =np.column_stack((tbl1['AdvertisingExpenditure($1000s)'],tbl1['Price']))\n",
    "y = tbl1['Sales(1000s)']\n",
    "x2 = sm.add_constant(x)\n",
    "model = sm.OLS(y,x2)\n",
    "Model = model.fit()\n",
    "print(Model.summary())"
   ]
  },
  {
   "cell_type": "code",
   "execution_count": 11,
   "metadata": {},
   "outputs": [],
   "source": [
    "z1 =tbl1['AdvertisingExpenditure($1000s)']\n",
    "z2 = tbl1['Price']\n",
    "z3 = z1*z2"
   ]
  },
  {
   "cell_type": "code",
   "execution_count": 12,
   "metadata": {},
   "outputs": [
    {
     "name": "stdout",
     "output_type": "stream",
     "text": [
      "                            OLS Regression Results                            \n",
      "==============================================================================\n",
      "Dep. Variable:           Sales(1000s)   R-squared:                       0.978\n",
      "Model:                            OLS   Adj. R-squared:                  0.975\n",
      "Method:                 Least Squares   F-statistic:                     297.9\n",
      "Date:                Thu, 12 Sep 2019   Prob (F-statistic):           9.26e-17\n",
      "Time:                        13:12:52   Log-Likelihood:                -111.99\n",
      "No. Observations:                  24   AIC:                             232.0\n",
      "Df Residuals:                      20   BIC:                             236.7\n",
      "Df Model:                           3                                         \n",
      "Covariance Type:            nonrobust                                         \n",
      "==============================================================================\n",
      "                 coef    std err          t      P>|t|      [0.025      0.975]\n",
      "------------------------------------------------------------------------------\n",
      "const       -275.8333    112.842     -2.444      0.024    -511.218     -40.449\n",
      "x1            19.6800      1.427     13.788      0.000      16.703      22.657\n",
      "x2           175.0000     44.547      3.928      0.001      82.077     267.923\n",
      "x3            -6.0800      0.563    -10.790      0.000      -7.255      -4.905\n",
      "==============================================================================\n",
      "Omnibus:                        0.641   Durbin-Watson:                   2.842\n",
      "Prob(Omnibus):                  0.726   Jarque-Bera (JB):                0.565\n",
      "Skew:                           0.335   Prob(JB):                        0.754\n",
      "Kurtosis:                       2.661   Cond. No.                     4.53e+03\n",
      "==============================================================================\n",
      "\n",
      "Warnings:\n",
      "[1] Standard Errors assume that the covariance matrix of the errors is correctly specified.\n",
      "[2] The condition number is large, 4.53e+03. This might indicate that there are\n",
      "strong multicollinearity or other numerical problems.\n"
     ]
    }
   ],
   "source": [
    "x_new =np.column_stack((z1,z2,z3))\n",
    "y = tbl1['Sales(1000s)']\n",
    "xnew2 = sm.add_constant(x_new)\n",
    "model2 = sm.OLS(y,xnew2)\n",
    "Model2 = model2.fit()\n",
    "print(Model2.summary())"
   ]
  },
  {
   "cell_type": "code",
   "execution_count": null,
   "metadata": {},
   "outputs": [],
   "source": []
  }
 ],
 "metadata": {
  "kernelspec": {
   "display_name": "Python 3",
   "language": "python",
   "name": "python3"
  },
  "language_info": {
   "codemirror_mode": {
    "name": "ipython",
    "version": 3
   },
   "file_extension": ".py",
   "mimetype": "text/x-python",
   "name": "python",
   "nbconvert_exporter": "python",
   "pygments_lexer": "ipython3",
   "version": "3.6.5"
  }
 },
 "nbformat": 4,
 "nbformat_minor": 2
}
