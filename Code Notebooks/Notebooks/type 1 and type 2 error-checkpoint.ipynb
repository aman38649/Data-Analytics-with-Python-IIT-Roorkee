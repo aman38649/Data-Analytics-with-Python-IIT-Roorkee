{
 "cells": [
  {
   "cell_type": "code",
   "execution_count": 2,
   "metadata": {},
   "outputs": [],
   "source": [
    "import pandas as pd\n",
    "import numpy as np\n",
    "from scipy import stats"
   ]
  },
  {
   "cell_type": "markdown",
   "metadata": {},
   "source": [
    "given that there are gas mileage data of 16 samples, assume to be normally distributed. xbar= 25.9, mu =27, s= 2, n = 16, compute  p- value and t value of the test"
   ]
  },
  {
   "cell_type": "code",
   "execution_count": 3,
   "metadata": {},
   "outputs": [],
   "source": [
    "xbar= 25.9\n",
    "mu =27\n",
    "s= 2\n",
    "n,df = 16,15"
   ]
  },
  {
   "cell_type": "markdown",
   "metadata": {},
   "source": [
    "Defining function for performing t test"
   ]
  },
  {
   "cell_type": "code",
   "execution_count": 4,
   "metadata": {},
   "outputs": [],
   "source": [
    "def t_test(xbar,mu,s,n,df):\n",
    " t= (xbar - mu)/(s/np.sqrt(n))\n",
    " pval =(stats.t.cdf(t,df))\n",
    " print (t,pval)"
   ]
  },
  {
   "cell_type": "markdown",
   "metadata": {},
   "source": [
    "Passing already defined variables"
   ]
  },
  {
   "cell_type": "code",
   "execution_count": 5,
   "metadata": {},
   "outputs": [
    {
     "name": "stdout",
     "output_type": "stream",
     "text": [
      "-2.200000000000003 0.021947787563748142\n"
     ]
    }
   ],
   "source": [
    "t_test(xbar,mu,s,n,df)"
   ]
  },
  {
   "cell_type": "markdown",
   "metadata": {},
   "source": [
    "Defing function for calculating alpha value"
   ]
  },
  {
   "cell_type": "code",
   "execution_count": 6,
   "metadata": {},
   "outputs": [],
   "source": [
    "def z_value(x,mu,SEM):\n",
    " z = (x - mu)/SEM\n",
    " if(z < 0):\n",
    "  alfa = stats.norm.cdf(z) \n",
    " else:\n",
    "  alfa = 1 - stats.norm.cdf(z) \n",
    " print (alfa)\n"
   ]
  },
  {
   "cell_type": "markdown",
   "metadata": {},
   "source": [
    "calculating aplha for different values of x,mu, and SEM"
   ]
  },
  {
   "cell_type": "code",
   "execution_count": 8,
   "metadata": {},
   "outputs": [],
   "source": [
    "x =48.5\n",
    "mu = 50\n",
    "SEM = 0.79"
   ]
  },
  {
   "cell_type": "code",
   "execution_count": 9,
   "metadata": {},
   "outputs": [
    {
     "name": "stdout",
     "output_type": "stream",
     "text": [
      "0.02879971774715278\n"
     ]
    }
   ],
   "source": [
    "z_value(x,mu,SEM)"
   ]
  },
  {
   "cell_type": "code",
   "execution_count": 10,
   "metadata": {},
   "outputs": [
    {
     "name": "stdout",
     "output_type": "stream",
     "text": [
      "0.02879971774715273\n"
     ]
    }
   ],
   "source": [
    "z_value(51.5,mu,SEM)"
   ]
  },
  {
   "cell_type": "code",
   "execution_count": 11,
   "metadata": {},
   "outputs": [
    {
     "name": "stdout",
     "output_type": "stream",
     "text": [
      "0.005676434117424844\n"
     ]
    }
   ],
   "source": [
    "z_value(48,mu,SEM)"
   ]
  },
  {
   "cell_type": "code",
   "execution_count": 12,
   "metadata": {},
   "outputs": [
    {
     "name": "stdout",
     "output_type": "stream",
     "text": [
      "0.0056764341174248\n"
     ]
    }
   ],
   "source": [
    "z_value(52,mu,SEM)"
   ]
  },
  {
   "cell_type": "markdown",
   "metadata": {},
   "source": [
    "calculating type 2 error where mu1 is assumed mean and mu2 is true mean"
   ]
  },
  {
   "cell_type": "code",
   "execution_count": 14,
   "metadata": {},
   "outputs": [],
   "source": [
    "def type_2(mu1,mu2,sigma,n,alfa):\n",
    " z =stats.norm.ppf(alfa)\n",
    " xbar = (mu1)+(z*sigma/np.sqrt(n))\n",
    " z2 = (xbar - mu2)/(sigma/np.sqrt(n))\n",
    " if(mu1 > mu2):\n",
    "  beta= 1-stats.norm.cdf(z2)\n",
    " else:\n",
    "  beta = stats.norm.cdf(z2) \n",
    " \n",
    " print (beta)"
   ]
  },
  {
   "cell_type": "markdown",
   "metadata": {},
   "source": [
    "using above define functions for different values"
   ]
  },
  {
   "cell_type": "code",
   "execution_count": 15,
   "metadata": {},
   "outputs": [
    {
     "name": "stdout",
     "output_type": "stream",
     "text": [
      "0.27292999450730004\n"
     ]
    }
   ],
   "source": [
    "type_2(8.3,7.4,3.1,60,0.05)"
   ]
  },
  {
   "cell_type": "code",
   "execution_count": 16,
   "metadata": {},
   "outputs": [
    {
     "name": "stdout",
     "output_type": "stream",
     "text": [
      "0.8079200023112734\n"
     ]
    }
   ],
   "source": [
    "type_2(12,11.99,0.1,60,0.05)"
   ]
  },
  {
   "cell_type": "code",
   "execution_count": 17,
   "metadata": {},
   "outputs": [
    {
     "name": "stdout",
     "output_type": "stream",
     "text": [
      "0.07303790512847008\n"
     ]
    }
   ],
   "source": [
    "type_2(12,11.96,0.1,60,0.05)"
   ]
  },
  {
   "cell_type": "code",
   "execution_count": 20,
   "metadata": {},
   "outputs": [
    {
     "name": "stdout",
     "output_type": "stream",
     "text": [
      "0.010499750448532241\n"
     ]
    }
   ],
   "source": [
    "type_2(14,12,3.2,40,0.05)"
   ]
  },
  {
   "cell_type": "code",
   "execution_count": 21,
   "metadata": {},
   "outputs": [
    {
     "name": "stdout",
     "output_type": "stream",
     "text": [
      "0.06457982995225997\n"
     ]
    }
   ],
   "source": [
    "type_2(13.6,12,3.2,40,0.05)"
   ]
  },
  {
   "cell_type": "code",
   "execution_count": 23,
   "metadata": {},
   "outputs": [
    {
     "name": "stdout",
     "output_type": "stream",
     "text": [
      "0.2336575101104159\n"
     ]
    }
   ],
   "source": [
    "type_2(13.2,12,3.2,40,0.05)"
   ]
  },
  {
   "cell_type": "code",
   "execution_count": 22,
   "metadata": {},
   "outputs": [
    {
     "name": "stdout",
     "output_type": "stream",
     "text": [
      "0.49995065746353273\n"
     ]
    }
   ],
   "source": [
    "type_2(12.8323,12,3.2,40,0.05)"
   ]
  },
  {
   "cell_type": "code",
   "execution_count": 27,
   "metadata": {},
   "outputs": [
    {
     "name": "stdout",
     "output_type": "stream",
     "text": [
      "0.5254013387545549\n"
     ]
    }
   ],
   "source": [
    "type_2(12.8,12,3.2,40,0.05)"
   ]
  },
  {
   "cell_type": "code",
   "execution_count": 24,
   "metadata": {},
   "outputs": [
    {
     "name": "stdout",
     "output_type": "stream",
     "text": [
      "0.8035262335707292\n"
     ]
    }
   ],
   "source": [
    "type_2(12.4,12,3.2,40,0.05)"
   ]
  },
  {
   "cell_type": "code",
   "execution_count": 26,
   "metadata": {},
   "outputs": [
    {
     "name": "stdout",
     "output_type": "stream",
     "text": [
      "0.9499796127157129\n"
     ]
    }
   ],
   "source": [
    "type_2(12.0001,12,3.2,40,0.05)"
   ]
  },
  {
   "cell_type": "code",
   "execution_count": null,
   "metadata": {},
   "outputs": [],
   "source": []
  }
 ],
 "metadata": {
  "kernelspec": {
   "display_name": "Python 3",
   "language": "python",
   "name": "python3"
  },
  "language_info": {
   "codemirror_mode": {
    "name": "ipython",
    "version": 3
   },
   "file_extension": ".py",
   "mimetype": "text/x-python",
   "name": "python",
   "nbconvert_exporter": "python",
   "pygments_lexer": "ipython3",
   "version": "3.6.5"
  }
 },
 "nbformat": 4,
 "nbformat_minor": 2
}
